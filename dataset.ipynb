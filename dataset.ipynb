{
  "metadata": {
    "kernelspec": {
      "name": "python",
      "display_name": "Python (Pyodide)",
      "language": "python"
    },
    "language_info": {
      "codemirror_mode": {
        "name": "python",
        "version": 3
      },
      "file_extension": ".py",
      "mimetype": "text/x-python",
      "name": "python",
      "nbconvert_exporter": "python",
      "pygments_lexer": "ipython3",
      "version": "3.8"
    }
  },
  "nbformat_minor": 5,
  "nbformat": 4,
  "cells": [
    {
      "id": "2d5ff6b5-b211-4685-a33c-470e2a470b27",
      "cell_type": "code",
      "source": "import pandas as pd\nimport numpy as np\nimport random\n\n# Set random seed for reproducibility\nrandom.seed(42)\nnp.random.seed(42)\n\n# Sample data options\nparts = [\n    \"Main Landing Gear\", \"Nose Gear\", \"Hydraulic Actuator\", \"Brake Assembly\",\n    \"Steering Unit\", \"Strut\", \"Tire\", \"Shock Absorber\", \"Drag Brace\", \"Retract Actuator\"\n]\n\nairlines = [\"AirGlobal\", \"SkyFleet\", \"AeroLine\", \"CloudJet\", \"FlyHigh\"]\n\ndamage_types = [\n    \"Normal Wear\", \"Foreign Object Damage (FOD)\", \"Customer Mishandling\",\n    \"Corrosion\", \"Unknown\", \"Overhaul Required\"\n]\n\n# Damage-based contract coverage rules\ndef is_billable(damage):\n    billable = [\"Foreign Object Damage (FOD)\", \"Customer Mishandling\", \"Unknown\"]\n    return \"Yes\" if damage in billable else \"No\"\n\n# Generate synthetic dataset\nnum_records = 200\ndata = []\n\nfor i in range(num_records):\n    part = random.choice(parts)\n    airline = random.choice(airlines)\n    damage = random.choice(damage_types)\n    cost = round(np.random.uniform(1500, 25000), 2)  # repair cost\n    teardown_note = f\"Teardown revealed: {damage.lower()}.\"\n    billable = is_billable(damage)\n\n    data.append({\n        \"Repair ID\": f\"R{i+1:04}\",\n        \"Part\": part,\n        \"Airline\": airline,\n        \"Damage Type\": damage,\n        \"Repair Cost (USD)\": cost,\n        \"Teardown Report\": teardown_note,\n        \"Billable to Customer\": billable\n    })\n\n# Create DataFrame\ndf = pd.DataFrame(data)\n\n# Preview\nprint(df.head())\n\n# Optional: Save to CSV\ndf.to_csv(\"repair_events_dataset.csv\", index=False)\n",
      "metadata": {
        "trusted": true
      },
      "outputs": [
        {
          "name": "stdout",
          "output_type": "stream",
          "text": "  Repair ID                Part    Airline                  Damage Type  \\\n0     R0001           Nose Gear  AirGlobal            Overhaul Required   \n1     R0002       Steering Unit   SkyFleet  Foreign Object Damage (FOD)   \n2     R0003  Hydraulic Actuator  AirGlobal            Overhaul Required   \n3     R0004          Drag Brace  AirGlobal                      Unknown   \n4     R0005                Tire  AirGlobal                  Normal Wear   \n\n   Repair Cost (USD)                                  Teardown Report  \\\n0           10301.69            Teardown revealed: overhaul required.   \n1           23841.79  Teardown revealed: foreign object damage (fod).   \n2           18701.86            Teardown revealed: overhaul required.   \n3           15568.47                      Teardown revealed: unknown.   \n4            5166.44                  Teardown revealed: normal wear.   \n\n  Billable to Customer  \n0                   No  \n1                  Yes  \n2                   No  \n3                  Yes  \n4                   No  \n"
        }
      ],
      "execution_count": 2
    },
    {
      "id": "39b08b48-241d-4d6b-9858-9cf7f1d6cec1",
      "cell_type": "code",
      "source": "# Function to apply detailed rule logic\ndef apply_contract_rules(row):\n    damage = row[\"Damage Type\"]\n    cost = row[\"Repair Cost (USD)\"]\n\n    if damage == \"Normal Wear\":\n        return \"R1\", \"Covered under standard maintenance plan\", 0, cost\n    elif damage == \"Foreign Object Damage (FOD)\":\n        return \"R2\", \"Customer liability\", cost, 0\n    elif damage == \"Customer Mishandling\":\n        return \"R3\", \"Negligence not covered by contract\", cost, 0\n    elif damage == \"Corrosion\":\n        return \"R4\", \"Covered if routine maintenance documented\", 0, cost\n    elif damage in [\"Unknown\", \"Overhaul Required\"]:\n        return \"R5\", \"Investigated case; charged to customer\", cost, 0\n    else:\n        return \"R0\", \"Undefined damage type\", cost, 0\n\n# Apply logic to each row\ndf[[\"Contract Rule ID\", \"Justification\", \"Billable Amount\", \"Covered Amount\"]] = df.apply(\n    lambda row: pd.Series(apply_contract_rules(row)),\n    axis=1\n)\n\n# Preview updated DataFrame\nprint(df.head())\n\n# Save to new CSV\ndf.to_csv(\"repair_events_with_rules.csv\", index=False)\n",
      "metadata": {
        "trusted": true
      },
      "outputs": [
        {
          "name": "stdout",
          "output_type": "stream",
          "text": "  Repair ID                Part    Airline                  Damage Type  \\\n0     R0001           Nose Gear  AirGlobal            Overhaul Required   \n1     R0002       Steering Unit   SkyFleet  Foreign Object Damage (FOD)   \n2     R0003  Hydraulic Actuator  AirGlobal            Overhaul Required   \n3     R0004          Drag Brace  AirGlobal                      Unknown   \n4     R0005                Tire  AirGlobal                  Normal Wear   \n\n   Repair Cost (USD)                                  Teardown Report  \\\n0           10301.69            Teardown revealed: overhaul required.   \n1           23841.79  Teardown revealed: foreign object damage (fod).   \n2           18701.86            Teardown revealed: overhaul required.   \n3           15568.47                      Teardown revealed: unknown.   \n4            5166.44                  Teardown revealed: normal wear.   \n\n  Billable to Customer Contract Rule ID  \\\n0                   No               R5   \n1                  Yes               R2   \n2                   No               R5   \n3                  Yes               R5   \n4                   No               R1   \n\n                             Justification  Billable Amount  Covered Amount  \n0   Investigated case; charged to customer         10301.69            0.00  \n1                       Customer liability         23841.79            0.00  \n2   Investigated case; charged to customer         18701.86            0.00  \n3   Investigated case; charged to customer         15568.47            0.00  \n4  Covered under standard maintenance plan             0.00         5166.44  \n"
        }
      ],
      "execution_count": 4
    },
    {
      "id": "6b0842c2-85aa-418e-a541-0f90b9668de8",
      "cell_type": "code",
      "source": "# Total billable and covered amounts per airline\nairline_summary = df.groupby(\"Airline\")[[\"Billable Amount\", \"Covered Amount\"]].sum().sort_values(\"Billable Amount\", ascending=False)\n\n# Display\nprint(airline_summary)",
      "metadata": {
        "trusted": true
      },
      "outputs": [
        {
          "name": "stdout",
          "output_type": "stream",
          "text": "           Billable Amount  Covered Amount\nAirline                                   \nSkyFleet         489898.09       231693.33\nFlyHigh          369081.79       218073.50\nAirGlobal        355468.19        89152.80\nCloudJet         279160.40       123041.86\nAeroLine         269315.28       149944.03\n"
        }
      ],
      "execution_count": 5
    },
    {
      "id": "10fe248e-9567-45c6-9694-ce64b8467383",
      "cell_type": "code",
      "source": "# a total repair cost column\ndf[\"Total Repair Cost\"] = df[\"Billable Amount\"] + df[\"Covered Amount\"]\n\n# Group by airline and calculate recovery rate\nrecovery = df.groupby(\"Airline\").agg({\n    \"Billable Amount\": \"sum\",\n    \"Total Repair Cost\": \"sum\"\n})\nrecovery[\"Recovery Rate (%)\"] = (recovery[\"Billable Amount\"] / recovery[\"Total Repair Cost\"]) * 100\nrecovery = recovery.sort_values(\"Recovery Rate (%)\", ascending=False)\n\nprint(recovery)\n",
      "metadata": {
        "trusted": true
      },
      "outputs": [
        {
          "name": "stdout",
          "output_type": "stream",
          "text": "           Billable Amount  Total Repair Cost  Recovery Rate (%)\nAirline                                                         \nAirGlobal        355468.19          444620.99          79.948585\nCloudJet         279160.40          402202.26          69.407964\nSkyFleet         489898.09          721591.42          67.891341\nAeroLine         269315.28          419259.31          64.235969\nFlyHigh          369081.79          587155.29          62.859314\n"
        }
      ],
      "execution_count": 7
    },
    {
      "id": "32262807-93f4-442f-a4a8-387bc977afb9",
      "cell_type": "code",
      "source": "damage_counts = df[\"Damage Type\"].value_counts()\n\nprint(damage_counts)",
      "metadata": {
        "trusted": true
      },
      "outputs": [
        {
          "name": "stdout",
          "output_type": "stream",
          "text": "Damage Type\nOverhaul Required              39\nNormal Wear                    38\nForeign Object Damage (FOD)    33\nUnknown                        32\nCustomer Mishandling           32\nCorrosion                      26\nName: count, dtype: int64\n"
        }
      ],
      "execution_count": 8
    },
    {
      "id": "8895bfca-6093-453e-97bc-a939be43985a",
      "cell_type": "code",
      "source": "billable_by_part = df.groupby(\"Part\")[\"Billable Amount\"].sum().sort_values(ascending=False)\n\nprint(billable_by_part)\n",
      "metadata": {
        "trusted": true
      },
      "outputs": [
        {
          "name": "stdout",
          "output_type": "stream",
          "text": "Part\nShock Absorber        266854.09\nDrag Brace            243939.21\nSteering Unit         225386.16\nTire                  204265.34\nNose Gear             175452.24\nHydraulic Actuator    159923.14\nStrut                 146896.90\nBrake Assembly        146414.84\nRetract Actuator      100141.54\nMain Landing Gear      93650.29\nName: Billable Amount, dtype: float64\n"
        }
      ],
      "execution_count": 9
    },
    {
      "id": "c0024213-f07d-43e1-8b88-067bdb0cf305",
      "cell_type": "code",
      "source": "",
      "metadata": {
        "trusted": true
      },
      "outputs": [],
      "execution_count": null
    }
  ]
}